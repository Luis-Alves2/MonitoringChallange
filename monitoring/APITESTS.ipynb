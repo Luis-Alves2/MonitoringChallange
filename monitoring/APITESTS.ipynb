{
 "cells": [
  {
   "cell_type": "code",
   "execution_count": 9,
   "metadata": {},
   "outputs": [
    {
     "name": "stdout",
     "output_type": "stream",
     "text": [
      "b'{\"roc_auc_score\":0.5751748251748252,\"monthly_volumes\":{\"03\":62,\"08\":72,\"01\":58,\"04\":49,\"06\":63,\"07\":74,\"05\":67,\"02\":55}}'\n"
     ]
    }
   ],
   "source": [
    "import json\n",
    "import requests\n",
    "\n",
    "url = \"http://localhost:8001/v1/performance/\"\n",
    "\n",
    "# Load the JSON data from file into a Python dictionary\n",
    "with open('batch_records.json', 'r') as f:\n",
    "    data = json.load(f)\n",
    "\n",
    "# Make the POST request and receive the response\n",
    "response = requests.post(url, json=data)\n",
    "\n",
    "# Print the response as text\n",
    "print(response.content)"
   ]
  },
  {
   "cell_type": "code",
   "execution_count": 10,
   "metadata": {},
   "outputs": [
    {
     "name": "stdout",
     "output_type": "stream",
     "text": [
      "b'{\"ks_statistic\":0.7918289500100382}'\n"
     ]
    }
   ],
   "source": [
    "url = 'http://localhost:8001/v1/aderencia/'\n",
    "\n",
    "file_path = r\"..\\..\\datasets\\credit_01\\train.gz\"\n",
    "\n",
    "response = requests.post(url, params={\"file_path\": file_path})\n",
    "\n",
    "print(response.content)"
   ]
  },
  {
   "cell_type": "code",
   "execution_count": 12,
   "metadata": {},
   "outputs": [
    {
     "name": "stdout",
     "output_type": "stream",
     "text": [
      "b'Internal Server Error'\n",
      "<Response [500]>\n"
     ]
    }
   ],
   "source": [
    "url = 'http://localhost:8001/v1/aderencia/'\n",
    "\n",
    "file_path = r\"..\\..\\datasets\\credit_01\\oot.gz\"\n",
    "\n",
    "response = requests.post(url, params={\"file_path\": file_path})\n",
    "\n",
    "print(response.content)\n",
    "\n",
    "print(response)"
   ]
  },
  {
   "attachments": {},
   "cell_type": "markdown",
   "metadata": {},
   "source": [
    "Perguntas:"
   ]
  },
  {
   "attachments": {},
   "cell_type": "markdown",
   "metadata": {},
   "source": [
    "1. Se quisermos expandir o monitoramento para todos os modelos em atualmente em produção, você acha que pode dar algum problema caso haja muitas requisições simultâneas ao mesmo endpoint da API? O que podemos fazer neste caso?"
   ]
  },
  {
   "attachments": {},
   "cell_type": "markdown",
   "metadata": {},
   "source": [
    "A: Se expandíssemos o monitoramento para todos os modelos em produção poderíamos facilmente atingir um gargalo ou diversos problemas, dependendo da quantidade de recursos utilizados para nossa API. A forma mais direta de resolução dessa questão seria aumentar o investimento, com mais servidores para lidar com as chamadas dessa API, seria possível lidar com mais chamadas. Outra possibilidade seria limitar o numero de chamadas de cada modelo, buscando atingir um equilibrio seguro e garantir o funcionamento de nossa API, essa solução ainda assim seria beneficiada pelo aumento de investimento. "
   ]
  },
  {
   "attachments": {},
   "cell_type": "markdown",
   "metadata": {},
   "source": [
    "2. Que outro problema um modelo de machine learning pode enfrentar em produção, que você acha interessante monitorar?"
   ]
  },
  {
   "attachments": {},
   "cell_type": "markdown",
   "metadata": {},
   "source": [
    "Um problema que acho interessante é a interpretabilidade do modelo, embora isso possa ser difícil, é interessante analisar como os nossos modelos estão fazendo decisões, isso vale tanto para entender por que estão tendo resultados tão bons(ou ruins), mas também para poder explicar para clientes, no exemplo em questão acredito que estamos analisando o crédito pessoal, poderia ser atraente para todos os envolvidos ter uma forma de explicar porque este foi negado."
   ]
  }
 ],
 "metadata": {
  "kernelspec": {
   "display_name": "myenv",
   "language": "python",
   "name": "python3"
  },
  "language_info": {
   "codemirror_mode": {
    "name": "ipython",
    "version": 3
   },
   "file_extension": ".py",
   "mimetype": "text/x-python",
   "name": "python",
   "nbconvert_exporter": "python",
   "pygments_lexer": "ipython3",
   "version": "3.9.16"
  },
  "orig_nbformat": 4
 },
 "nbformat": 4,
 "nbformat_minor": 2
}
